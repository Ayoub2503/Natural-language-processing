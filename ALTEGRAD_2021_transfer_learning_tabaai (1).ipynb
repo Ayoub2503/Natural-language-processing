{
 "cells": [
  {
   "cell_type": "markdown",
   "metadata": {
    "id": "DlAfI8mCWAf3"
   },
   "source": [
    "# Transfer learning for NLP\n",
    "## ALTEGRAD - Lab session 3\n",
    "#### Moussa Kamal Eddine, Hadi Abdine (Dascim LIX)\n",
    "##### 23 November 2021"
   ]
  },
  {
   "cell_type": "code",
   "execution_count": 13,
   "metadata": {
    "id": "IqukuIe0Rb_c"
   },
   "outputs": [],
   "source": [
    "import math\n",
    "\n",
    "import torch\n",
    "import torch.nn as nn\n",
    "from torch.nn.utils.rnn import pad_sequence\n",
    "\n",
    "device = torch.device(\"cuda\" if torch.cuda.is_available() else \"cpu\")"
   ]
  },
  {
   "cell_type": "markdown",
   "metadata": {
    "id": "5FF6fjkqgN39"
   },
   "source": [
    "### The Model"
   ]
  },
  {
   "cell_type": "code",
   "execution_count": 14,
   "metadata": {
    "id": "p0cj9WkSFQwl"
   },
   "outputs": [],
   "source": [
    "class TransformerModel(nn.Module):\n",
    "    def __init__(self, ntoken, nhead, nhid, nlayers, dropout=0.5):\n",
    "        super(TransformerModel, self).__init__()\n",
    "        '''\n",
    "        ntokens: the size of vocabulary\n",
    "        nhid: the hidden dimension of the model.\n",
    "        We assume that embedding_dim = nhid\n",
    "        nlayers: the number of nn.TransformerEncoderLayer in nn.TransformerEncoder\n",
    "        nhead: the number of heads in the multiheadattention models\n",
    "        dropout: the dropout value\n",
    "         '''\n",
    "        self.model_type = \"Transformer\"\n",
    "        self.encoder = nn.Embedding(ntoken, nhid) # fill me, nhid = the dim_embed\n",
    "        self.pos_encoder = PositionalEncoding(nhid, dropout) #fill me, the PositionalEncoding class is implemented in the next cell\n",
    "        encoder_layers = nn.TransformerEncoderLayer(nhid, nhead, nhid, dropout) #fill me we assume nhid = d_model = dim_feedforward\n",
    "        self.transformer_encoder = nn.TransformerEncoder(encoder_layers, nlayers) #fill me\n",
    "        self.nhid = nhid\n",
    "        self.init_weights()\n",
    "\n",
    "    def generate_square_subsequent_mask(self, sz):\n",
    "        mask = (torch.triu(torch.ones(sz, sz)) == 1).transpose(0, 1)\n",
    "        mask = (\n",
    "            mask.float()\n",
    "            .masked_fill(mask == 0, float(\"-inf\"))\n",
    "            .masked_fill(mask == 1, float(0.0))\n",
    "        )\n",
    "        return mask\n",
    "\n",
    "    def init_weights(self):\n",
    "        initrange = 0.1\n",
    "        self.encoder.weight.data.uniform_(-initrange, initrange)\n",
    "\n",
    "    def forward(self, src, src_mask):\n",
    "        src = self.encoder(src) * math.sqrt(self.nhid) \n",
    "        src = self.pos_encoder(src) #fill me\n",
    "        output = self.transformer_encoder(src, src_mask)#fill me\n",
    "        return output\n",
    "\n",
    "\n",
    "class ClassificationHead(nn.Module):\n",
    "    def __init__(self, nhid, nclasses):\n",
    "        super(ClassificationHead, self).__init__()\n",
    "        self.decoder = nn.Linear(nhid, nclasses) #fill me\n",
    "        self.init_weights()\n",
    "\n",
    "    def init_weights(self):\n",
    "        initrange = 0.1\n",
    "        self.decoder.bias.data.zero_()\n",
    "        self.decoder.weight.data.uniform_(-initrange, initrange)\n",
    "\n",
    "    def forward(self, src):\n",
    "        output = self.decoder(src)\n",
    "        return output\n",
    "    \n",
    "class Model(nn.Module):\n",
    "    def __init__(self, ntoken, nhead, nhid, nlayers, nclasses, dropout=0.5):\n",
    "        super(Model, self).__init__()\n",
    "        self.base = TransformerModel(ntoken, nhead, nhid, nlayers, dropout)#fill me\n",
    "        self.classifier = ClassificationHead(nhid, nclasses) #fill me \n",
    "\n",
    "    def forward(self, src, src_mask):\n",
    "        # base model\n",
    "        x = self.base.forward(src, src_mask) #fill me\n",
    "        # classifier model\n",
    "        output = self.classifier.forward(x)#fill me\n",
    "        return output"
   ]
  },
  {
   "cell_type": "code",
   "execution_count": 15,
   "metadata": {
    "id": "kt2QQohaFZry"
   },
   "outputs": [],
   "source": [
    "class PositionalEncoding(nn.Module):\n",
    "    def __init__(self, nhid, dropout=0.1, max_len=5000):\n",
    "        super(PositionalEncoding, self).__init__()\n",
    "        self.dropout = nn.Dropout(p=dropout)\n",
    "\n",
    "        pe = torch.zeros(max_len, nhid)\n",
    "        position = torch.arange(0, max_len, dtype=torch.float).unsqueeze(1)\n",
    "        div_term = torch.exp(\n",
    "            torch.arange(0, nhid, 2).float() * (-math.log(10000.0) / nhid)\n",
    "        )\n",
    "        pe[:, 0::2] = torch.sin(position * div_term)\n",
    "        pe[:, 1::2] = torch.cos(position * div_term)\n",
    "        pe = pe.unsqueeze(0).transpose(0, 1)\n",
    "        self.register_buffer(\"pe\", pe)\n",
    "\n",
    "    def forward(self, x):\n",
    "        x = x + self.pe[: x.size(0), :]\n",
    "        return self.dropout(x)"
   ]
  },
  {
   "cell_type": "markdown",
   "metadata": {
    "id": "SfEYHJx2JW6l"
   },
   "source": [
    "Let's verify if our model works, by applying one inference step"
   ]
  },
  {
   "cell_type": "code",
   "execution_count": 16,
   "metadata": {
    "colab": {
     "base_uri": "https://localhost:8080/"
    },
    "id": "rhb2gkUhJMR0",
    "outputId": "1ec2c1af-42b3-4d8f-8d90-7c468cf1a26b"
   },
   "outputs": [
    {
     "name": "stdout",
     "output_type": "stream",
     "text": [
      "torch.Size([1, 6, 100])\n"
     ]
    }
   ],
   "source": [
    "ntokens = 100 # the size of vocabulary\n",
    "nhid = 200  # hidden dimension\n",
    "nlayers = 4  # the number of nn.TransformerEncoderLayer in nn.TransformerEncoder\n",
    "nhead = 2  # the number of heads in the multiheadattention models\n",
    "dropout = 0  # the dropout value\n",
    "\n",
    "model = Model(ntokens, nhead, nhid, nlayers, ntokens, dropout).to(device)\n",
    "dummy_input = torch.tensor([[2, 6, 2, 5, 43, 21]]).to(device)\n",
    "src_mask = model.base.generate_square_subsequent_mask(1).to(device)\n",
    "out = model.forward(dummy_input, src_mask)\n",
    "\n",
    "print(out.shape) # is it the right shape?   #yes"
   ]
  },
  {
   "cell_type": "markdown",
   "metadata": {
    "id": "i74NN897Fcit"
   },
   "source": [
    "## Vocabulary and Tokenization"
   ]
  },
  {
   "cell_type": "code",
   "execution_count": 17,
   "metadata": {
    "colab": {
     "base_uri": "https://localhost:8080/"
    },
    "id": "5qjd26ghWuff",
    "outputId": "fe98b182-27c3-47be-e8ea-438400e89429"
   },
   "outputs": [
    {
     "name": "stdout",
     "output_type": "stream",
     "text": [
      "--2021-11-30 17:56:18--  https://raw.githubusercontent.com/moussaKam/transfer_learning_transformers/main/dict.txt\n",
      "Resolving raw.githubusercontent.com (raw.githubusercontent.com)... 185.199.108.133, 185.199.109.133, 185.199.110.133, ...\n",
      "Connecting to raw.githubusercontent.com (raw.githubusercontent.com)|185.199.108.133|:443... connected.\n",
      "HTTP request sent, awaiting response... 200 OK\n",
      "Length: 577587 (564K) [text/plain]\n",
      "Saving to: ‘dict.txt.1’\n",
      "\n",
      "\r",
      "dict.txt.1            0%[                    ]       0  --.-KB/s               \r",
      "dict.txt.1          100%[===================>] 564.05K  --.-KB/s    in 0.04s   \n",
      "\n",
      "2021-11-30 17:56:19 (13.5 MB/s) - ‘dict.txt.1’ saved [577587/577587]\n",
      "\n",
      "▁d 1\n",
      "es 1\n",
      "▁l 1\n",
      "en 1\n",
      "on 1\n"
     ]
    }
   ],
   "source": [
    "!wget https://raw.githubusercontent.com/moussaKam/transfer_learning_transformers/main/dict.txt\n",
    "!head -5 dict.txt"
   ]
  },
  {
   "cell_type": "code",
   "execution_count": 18,
   "metadata": {
    "colab": {
     "base_uri": "https://localhost:8080/"
    },
    "id": "vFdH_-JeFbGA",
    "outputId": "e819b9b6-bde0-40fb-beb8-b22d791c4f2c"
   },
   "outputs": [
    {
     "name": "stdout",
     "output_type": "stream",
     "text": [
      "▁trop\n"
     ]
    }
   ],
   "source": [
    "path_vocab = \"dict.txt\"\n",
    "token2ind = {\"<sos>\": 0, \"<pad>\": 1, \"<eos>\": 2, \"<oov>\": 3} # the 4 first indices are reserved to special tokens\n",
    "lens = len(token2ind)\n",
    "with open(path_vocab, \"r\") as f:\n",
    "    for idx, line in enumerate(f):\n",
    "        word = line.split()[0].strip()\n",
    "        token2ind[word] = idx + lens  #fill me\n",
    "\n",
    "ind2token = {ind: token for token, ind in token2ind.items()} #fill me\n",
    "\n",
    "print(ind2token[1111])"
   ]
  },
  {
   "cell_type": "markdown",
   "metadata": {
    "id": "XOExGODajN8p"
   },
   "source": [
    "### Data Loader\n"
   ]
  },
  {
   "cell_type": "code",
   "execution_count": 19,
   "metadata": {
    "id": "Y0jN-Ar9i5Q1"
   },
   "outputs": [],
   "source": [
    "import numpy\n",
    "import torch\n",
    "from torch.nn.utils.rnn import pad_sequence\n",
    "from torch.utils.data import DataLoader, Dataset\n",
    "\n",
    "\n",
    "class Dataset(Dataset):\n",
    "    def __init__(\n",
    "        self,\n",
    "        path_documents,\n",
    "        path_labels=None,\n",
    "        token2ind={},\n",
    "        max_len=512,\n",
    "        task=\"language_modeling\",\n",
    "    ):\n",
    "        self.task = task\n",
    "        self.max_len = max_len\n",
    "        self.token2ind = token2ind\n",
    "        self.documents = []\n",
    "        self.labels = []\n",
    "        with open(path_documents, \"r\") as f1:\n",
    "            for line in f1:\n",
    "                self.documents.append(line.strip())\n",
    "        if task == \"classification\":\n",
    "            with open(path_labels, \"r\") as f1:\n",
    "                for line in f1:\n",
    "                    self.labels.append(int(line.strip()))\n",
    "            assert len(self.labels) == len(self.documents)\n",
    "\n",
    "    def __len__(self):\n",
    "        return len(self.documents)\n",
    "\n",
    "    def __getitem__(self, index):\n",
    "        sequence = self.documents[index].split()\n",
    "        if len(sequence) > self.max_len - 1:\n",
    "            sequence = sequence[: self.max_len - 1]\n",
    "        source_sequence = [self.token2ind[\"<sos>\"]] + [\n",
    "            self.token2ind[word] if word in self.token2ind else self.token2ind[\"<oov>\"]\n",
    "            for word in sequence[: self.max_len]\n",
    "        ]#fill me (constract the input sequence using token2ind, sequence and special tokens)\n",
    "        \n",
    "        if self.task == \"language_modeling\":\n",
    "            target = source_sequence[1:]\n",
    "            target.append(self.token2ind[\"<eos>\"])\n",
    "        elif self.task == \"classification\":\n",
    "            target = [self.labels[index]]\n",
    "        sample = {\n",
    "            \"source_sequence\": torch.tensor(source_sequence),\n",
    "            \"target\": torch.tensor(target),\n",
    "        }\n",
    "        return sample\n",
    "\n",
    "\n",
    "def MyCollator(batch):\n",
    "    source_sequences = pad_sequence(\n",
    "        #we use padding to match the length of the sequences in the same batch\n",
    "        [sample[\"source_sequence\"] for sample in batch], padding_value=token2ind[\"<pad>\"]\n",
    "    )\n",
    "    target = pad_sequence(\n",
    "        [sample[\"target\"] for sample in batch], padding_value=token2ind[\"<pad>\"]\n",
    "    )\n",
    "    return source_sequences, target.reshape(-1)\n",
    "\n",
    "\n",
    "def get_loader(\n",
    "    path_documents,\n",
    "    path_labels=None,\n",
    "    token2ind={},\n",
    "    max_len=512,\n",
    "    batch_size=32,\n",
    "    task=\"language_modeling\",\n",
    "):\n",
    "    dataset = Dataset(\n",
    "        path_documents,\n",
    "        path_labels=path_labels,\n",
    "        token2ind=token2ind,\n",
    "        max_len=512,\n",
    "        task=task,\n",
    "    )\n",
    "    data_loader = DataLoader(\n",
    "        dataset=dataset,\n",
    "        batch_size=batch_size,\n",
    "        shuffle=True,\n",
    "        collate_fn=MyCollator,\n",
    "        pin_memory=True,\n",
    "        drop_last=True,\n",
    "    )\n",
    "    return data_loader"
   ]
  },
  {
   "cell_type": "markdown",
   "metadata": {
    "id": "uTns4lHrjUTa"
   },
   "source": [
    "## The Training"
   ]
  },
  {
   "cell_type": "code",
   "execution_count": 20,
   "metadata": {
    "id": "4_jwosiLjRsS"
   },
   "outputs": [],
   "source": [
    "def train(\n",
    "    path_data_train,\n",
    "    path_labels_train=None,\n",
    "    path_data_valid=None,\n",
    "    save_interval=-1,\n",
    "    log_interval=5,\n",
    "    task=\"language_modeling\",\n",
    "    batch_size=32,\n",
    "):\n",
    "    model.train()\n",
    "    total_loss = 0.0\n",
    "    ntokens = len(token2ind)\n",
    "    data_loader = get_loader(\n",
    "        path_data_train,\n",
    "        path_labels_train,\n",
    "        token2ind,\n",
    "        task=task,\n",
    "        batch_size=batch_size,\n",
    "    )\n",
    "    \n",
    "    losses = []\n",
    "    for idx, data in enumerate(data_loader): #step 1\n",
    "        optimizer.zero_grad()\n",
    "        src_mask = model.base.generate_square_subsequent_mask(data[0].size(0)).to(\n",
    "            device\n",
    "        )\n",
    "        input = data[0].to(device)\n",
    "        output = model(input, src_mask) #step 2\n",
    "        if task == 'classification':\n",
    "            #last vector only\n",
    "            output = output[-1] #fill me \n",
    "        output = output.view(-1, output.shape[-1])\n",
    "        target = data[1]#fill me\n",
    "        target = target.to(device)\n",
    "        loss = criterion(output, target)#fill me, Cross entropy check next cells\n",
    "        #fill me step 3\n",
    "        loss.backward()\n",
    "        torch.nn.utils.clip_grad_norm_(model.parameters(), 0.5) # prevent exploding gradient \n",
    "        #fill me step 4\n",
    "        optimizer.step()\n",
    "        total_loss += loss.item() \n",
    "        if idx % log_interval == 0 and idx > 0:\n",
    "            cur_loss = total_loss / log_interval\n",
    "            print(\n",
    "                \"| epoch {:3d} | {:5d}/{:5d} steps | \"\n",
    "                \"loss {:5.5f} | ppl {:8.3f}\".format(\n",
    "                    epoch, idx, len(data_loader), cur_loss, math.exp(cur_loss),\n",
    "                )\n",
    "            )\n",
    "            losses.append(cur_loss)\n",
    "            total_loss = 0\n",
    "    return losses"
   ]
  },
  {
   "cell_type": "code",
   "execution_count": 21,
   "metadata": {
    "id": "pgf6BDB9jUr6"
   },
   "outputs": [],
   "source": [
    "ntokens = len(ind2token)#fill me # the size of vocabulary\n",
    "nhid = 200  # the dimension of the feedforward network model in nn.TransformerEncoder\n",
    "nlayers = 4  # the number of nn.TransformerEncoderLayer in nn.TransformerEncoder\n",
    "nhead = 2  # the number of heads in the multiheadattention models\n",
    "dropout = 0  # the dropout value\n",
    "\n",
    "nclasses = 2 # for classification task only\n",
    "\n",
    "model = Model(ntokens, nhead, nhid, nlayers, ntokens, dropout).to(device)"
   ]
  },
  {
   "cell_type": "code",
   "execution_count": 22,
   "metadata": {
    "id": "u-OLy4KIkDwf"
   },
   "outputs": [],
   "source": [
    "# optimization paramerters\n",
    "\n",
    "criterion = nn.CrossEntropyLoss(ignore_index=token2ind['<pad>'])\n",
    "lr = 0.0003  # learning rate\n",
    "optimizer = torch.optim.Adam(model.parameters(), lr=lr)"
   ]
  },
  {
   "cell_type": "code",
   "execution_count": 23,
   "metadata": {
    "colab": {
     "base_uri": "https://localhost:8080/"
    },
    "id": "Bwh3n9xZQy4e",
    "outputId": "0e9bd8f6-357d-47af-8818-c10c72fe1d09"
   },
   "outputs": [
    {
     "name": "stdout",
     "output_type": "stream",
     "text": [
      "--2021-11-30 17:56:19--  https://raw.githubusercontent.com/moussaKam/transfer_learning_transformers/main/pretraining_subset.txt\n",
      "Resolving raw.githubusercontent.com (raw.githubusercontent.com)... 185.199.108.133, 185.199.111.133, 185.199.110.133, ...\n",
      "Connecting to raw.githubusercontent.com (raw.githubusercontent.com)|185.199.108.133|:443... connected.\n",
      "HTTP request sent, awaiting response... 200 OK\n",
      "Length: 10146460 (9.7M) [text/plain]\n",
      "Saving to: ‘pretraining_subset.txt.1’\n",
      "\n",
      "\r",
      "pretraining_subset.   0%[                    ]       0  --.-KB/s               \r",
      "pretraining_subset. 100%[===================>]   9.68M  --.-KB/s    in 0.1s    \n",
      "\n",
      "2021-11-30 17:56:20 (93.4 MB/s) - ‘pretraining_subset.txt.1’ saved [10146460/10146460]\n",
      "\n"
     ]
    }
   ],
   "source": [
    "!wget https://raw.githubusercontent.com/moussaKam/transfer_learning_transformers/main/pretraining_subset.txt\n",
    "path_data_train = \"pretraining_subset.txt\""
   ]
  },
  {
   "cell_type": "code",
   "execution_count": 24,
   "metadata": {
    "colab": {
     "base_uri": "https://localhost:8080/"
    },
    "id": "0m11g4ScjZaR",
    "outputId": "7930171c-4b6e-476b-96cc-9fa892f2a36c"
   },
   "outputs": [
    {
     "name": "stdout",
     "output_type": "stream",
     "text": [
      "| epoch   1 |   500/ 3125 steps | loss 7.30024 | ppl 1480.652\n",
      "| epoch   1 |  1000/ 3125 steps | loss 6.46960 | ppl  645.228\n",
      "| epoch   1 |  1500/ 3125 steps | loss 6.22684 | ppl  506.155\n",
      "| epoch   1 |  2000/ 3125 steps | loss 6.05449 | ppl  426.020\n",
      "| epoch   1 |  2500/ 3125 steps | loss 5.91089 | ppl  369.034\n",
      "| epoch   1 |  3000/ 3125 steps | loss 5.83163 | ppl  340.913\n",
      "| epoch   2 |   500/ 3125 steps | loss 5.51998 | ppl  249.631\n",
      "| epoch   2 |  1000/ 3125 steps | loss 5.46913 | ppl  237.253\n",
      "| epoch   2 |  1500/ 3125 steps | loss 5.43575 | ppl  229.466\n",
      "| epoch   2 |  2000/ 3125 steps | loss 5.40896 | ppl  223.399\n",
      "| epoch   2 |  2500/ 3125 steps | loss 5.38684 | ppl  218.511\n",
      "| epoch   2 |  3000/ 3125 steps | loss 5.35690 | ppl  212.067\n"
     ]
    }
   ],
   "source": [
    "#pretraining on a tiny subset\n",
    "log_interval = 500\n",
    "epochs = 2\n",
    "for epoch in range(1, epochs + 1): #5\n",
    "    train(\n",
    "        path_data_train,\n",
    "        save_interval=-1,\n",
    "        task=\"language_modeling\", # fill me\n",
    "        batch_size=16,\n",
    "        log_interval=log_interval,\n",
    "    )"
   ]
  },
  {
   "cell_type": "markdown",
   "metadata": {
    "id": "MeOM1dOvkO4e"
   },
   "source": [
    "## Text Generation\n"
   ]
  },
  {
   "cell_type": "code",
   "execution_count": 25,
   "metadata": {
    "colab": {
     "base_uri": "https://localhost:8080/"
    },
    "id": "-BcBC6FSkMH3",
    "outputId": "65053a94-ea63-4e4a-9d9c-a8585a5d6724"
   },
   "outputs": [
    {
     "name": "stdout",
     "output_type": "stream",
     "text": [
      "--2021-11-30 18:10:58--  https://raw.githubusercontent.com/moussaKam/transfer_learning_transformers/main/pretrained_model_4layers.pt\n",
      "Resolving raw.githubusercontent.com (raw.githubusercontent.com)... 185.199.108.133, 185.199.109.133, 185.199.110.133, ...\n",
      "Connecting to raw.githubusercontent.com (raw.githubusercontent.com)|185.199.108.133|:443... connected.\n",
      "HTTP request sent, awaiting response... 200 OK\n",
      "Length: 88093955 (84M) [application/octet-stream]\n",
      "Saving to: ‘pretrained_model_4layers.pt’\n",
      "\n",
      "pretrained_model_4l 100%[===================>]  84.01M   172MB/s    in 0.5s    \n",
      "\n",
      "2021-11-30 18:11:16 (172 MB/s) - ‘pretrained_model_4layers.pt’ saved [88093955/88093955]\n",
      "\n"
     ]
    },
    {
     "data": {
      "text/plain": [
       "<All keys matched successfully>"
      ]
     },
     "execution_count": 25,
     "metadata": {},
     "output_type": "execute_result"
    }
   ],
   "source": [
    "!wget https://raw.githubusercontent.com/moussaKam/transfer_learning_transformers/main/pretrained_model_4layers.pt\n",
    "\n",
    "model = Model(ntokens, nhead, nhid, nlayers, ntokens).to(device) \n",
    "\n",
    "#load the checkpoint\n",
    "checkpoint = torch.load('pretrained_model_4layers.pt') \n",
    "#load state dict\n",
    "model.load_state_dict(checkpoint['model_state_dict']) "
   ]
  },
  {
   "cell_type": "code",
   "execution_count": 26,
   "metadata": {
    "colab": {
     "base_uri": "https://localhost:8080/"
    },
    "id": "tBRRVsWqlIoQ",
    "outputId": "ee3b97e3-f878-428d-8d82-33884f57fb26"
   },
   "outputs": [
    {
     "name": "stdout",
     "output_type": "stream",
     "text": [
      "Collecting sentencepiece\n",
      "  Downloading sentencepiece-0.1.96-cp37-cp37m-manylinux_2_17_x86_64.manylinux2014_x86_64.whl (1.2 MB)\n",
      "\u001b[?25l\r",
      "\u001b[K     |▎                               | 10 kB 16.3 MB/s eta 0:00:01\r",
      "\u001b[K     |▌                               | 20 kB 18.9 MB/s eta 0:00:01\r",
      "\u001b[K     |▉                               | 30 kB 12.0 MB/s eta 0:00:01\r",
      "\u001b[K     |█                               | 40 kB 9.5 MB/s eta 0:00:01\r",
      "\u001b[K     |█▍                              | 51 kB 5.1 MB/s eta 0:00:01\r",
      "\u001b[K     |█▋                              | 61 kB 4.4 MB/s eta 0:00:01\r",
      "\u001b[K     |██                              | 71 kB 4.5 MB/s eta 0:00:01\r",
      "\u001b[K     |██▏                             | 81 kB 5.1 MB/s eta 0:00:01\r",
      "\u001b[K     |██▍                             | 92 kB 4.9 MB/s eta 0:00:01\r",
      "\u001b[K     |██▊                             | 102 kB 5.3 MB/s eta 0:00:01\r",
      "\u001b[K     |███                             | 112 kB 5.3 MB/s eta 0:00:01\r",
      "\u001b[K     |███▎                            | 122 kB 5.3 MB/s eta 0:00:01\r",
      "\u001b[K     |███▌                            | 133 kB 5.3 MB/s eta 0:00:01\r",
      "\u001b[K     |███▉                            | 143 kB 5.3 MB/s eta 0:00:01\r",
      "\u001b[K     |████                            | 153 kB 5.3 MB/s eta 0:00:01\r",
      "\u001b[K     |████▎                           | 163 kB 5.3 MB/s eta 0:00:01\r",
      "\u001b[K     |████▋                           | 174 kB 5.3 MB/s eta 0:00:01\r",
      "\u001b[K     |████▉                           | 184 kB 5.3 MB/s eta 0:00:01\r",
      "\u001b[K     |█████▏                          | 194 kB 5.3 MB/s eta 0:00:01\r",
      "\u001b[K     |█████▍                          | 204 kB 5.3 MB/s eta 0:00:01\r",
      "\u001b[K     |█████▊                          | 215 kB 5.3 MB/s eta 0:00:01\r",
      "\u001b[K     |██████                          | 225 kB 5.3 MB/s eta 0:00:01\r",
      "\u001b[K     |██████▏                         | 235 kB 5.3 MB/s eta 0:00:01\r",
      "\u001b[K     |██████▌                         | 245 kB 5.3 MB/s eta 0:00:01\r",
      "\u001b[K     |██████▊                         | 256 kB 5.3 MB/s eta 0:00:01\r",
      "\u001b[K     |███████                         | 266 kB 5.3 MB/s eta 0:00:01\r",
      "\u001b[K     |███████▎                        | 276 kB 5.3 MB/s eta 0:00:01\r",
      "\u001b[K     |███████▋                        | 286 kB 5.3 MB/s eta 0:00:01\r",
      "\u001b[K     |███████▉                        | 296 kB 5.3 MB/s eta 0:00:01\r",
      "\u001b[K     |████████                        | 307 kB 5.3 MB/s eta 0:00:01\r",
      "\u001b[K     |████████▍                       | 317 kB 5.3 MB/s eta 0:00:01\r",
      "\u001b[K     |████████▋                       | 327 kB 5.3 MB/s eta 0:00:01\r",
      "\u001b[K     |█████████                       | 337 kB 5.3 MB/s eta 0:00:01\r",
      "\u001b[K     |█████████▏                      | 348 kB 5.3 MB/s eta 0:00:01\r",
      "\u001b[K     |█████████▌                      | 358 kB 5.3 MB/s eta 0:00:01\r",
      "\u001b[K     |█████████▊                      | 368 kB 5.3 MB/s eta 0:00:01\r",
      "\u001b[K     |██████████                      | 378 kB 5.3 MB/s eta 0:00:01\r",
      "\u001b[K     |██████████▎                     | 389 kB 5.3 MB/s eta 0:00:01\r",
      "\u001b[K     |██████████▌                     | 399 kB 5.3 MB/s eta 0:00:01\r",
      "\u001b[K     |██████████▉                     | 409 kB 5.3 MB/s eta 0:00:01\r",
      "\u001b[K     |███████████                     | 419 kB 5.3 MB/s eta 0:00:01\r",
      "\u001b[K     |███████████▍                    | 430 kB 5.3 MB/s eta 0:00:01\r",
      "\u001b[K     |███████████▋                    | 440 kB 5.3 MB/s eta 0:00:01\r",
      "\u001b[K     |███████████▉                    | 450 kB 5.3 MB/s eta 0:00:01\r",
      "\u001b[K     |████████████▏                   | 460 kB 5.3 MB/s eta 0:00:01\r",
      "\u001b[K     |████████████▍                   | 471 kB 5.3 MB/s eta 0:00:01\r",
      "\u001b[K     |████████████▊                   | 481 kB 5.3 MB/s eta 0:00:01\r",
      "\u001b[K     |█████████████                   | 491 kB 5.3 MB/s eta 0:00:01\r",
      "\u001b[K     |█████████████▎                  | 501 kB 5.3 MB/s eta 0:00:01\r",
      "\u001b[K     |█████████████▌                  | 512 kB 5.3 MB/s eta 0:00:01\r",
      "\u001b[K     |█████████████▊                  | 522 kB 5.3 MB/s eta 0:00:01\r",
      "\u001b[K     |██████████████                  | 532 kB 5.3 MB/s eta 0:00:01\r",
      "\u001b[K     |██████████████▎                 | 542 kB 5.3 MB/s eta 0:00:01\r",
      "\u001b[K     |██████████████▋                 | 552 kB 5.3 MB/s eta 0:00:01\r",
      "\u001b[K     |██████████████▉                 | 563 kB 5.3 MB/s eta 0:00:01\r",
      "\u001b[K     |███████████████▏                | 573 kB 5.3 MB/s eta 0:00:01\r",
      "\u001b[K     |███████████████▍                | 583 kB 5.3 MB/s eta 0:00:01\r",
      "\u001b[K     |███████████████▋                | 593 kB 5.3 MB/s eta 0:00:01\r",
      "\u001b[K     |████████████████                | 604 kB 5.3 MB/s eta 0:00:01\r",
      "\u001b[K     |████████████████▏               | 614 kB 5.3 MB/s eta 0:00:01\r",
      "\u001b[K     |████████████████▌               | 624 kB 5.3 MB/s eta 0:00:01\r",
      "\u001b[K     |████████████████▊               | 634 kB 5.3 MB/s eta 0:00:01\r",
      "\u001b[K     |█████████████████               | 645 kB 5.3 MB/s eta 0:00:01\r",
      "\u001b[K     |█████████████████▎              | 655 kB 5.3 MB/s eta 0:00:01\r",
      "\u001b[K     |█████████████████▌              | 665 kB 5.3 MB/s eta 0:00:01\r",
      "\u001b[K     |█████████████████▉              | 675 kB 5.3 MB/s eta 0:00:01\r",
      "\u001b[K     |██████████████████              | 686 kB 5.3 MB/s eta 0:00:01\r",
      "\u001b[K     |██████████████████▍             | 696 kB 5.3 MB/s eta 0:00:01\r",
      "\u001b[K     |██████████████████▋             | 706 kB 5.3 MB/s eta 0:00:01\r",
      "\u001b[K     |███████████████████             | 716 kB 5.3 MB/s eta 0:00:01\r",
      "\u001b[K     |███████████████████▏            | 727 kB 5.3 MB/s eta 0:00:01\r",
      "\u001b[K     |███████████████████▍            | 737 kB 5.3 MB/s eta 0:00:01\r",
      "\u001b[K     |███████████████████▊            | 747 kB 5.3 MB/s eta 0:00:01\r",
      "\u001b[K     |████████████████████            | 757 kB 5.3 MB/s eta 0:00:01\r",
      "\u001b[K     |████████████████████▎           | 768 kB 5.3 MB/s eta 0:00:01\r",
      "\u001b[K     |████████████████████▌           | 778 kB 5.3 MB/s eta 0:00:01\r",
      "\u001b[K     |████████████████████▉           | 788 kB 5.3 MB/s eta 0:00:01\r",
      "\u001b[K     |█████████████████████           | 798 kB 5.3 MB/s eta 0:00:01\r",
      "\u001b[K     |█████████████████████▎          | 808 kB 5.3 MB/s eta 0:00:01\r",
      "\u001b[K     |█████████████████████▋          | 819 kB 5.3 MB/s eta 0:00:01\r",
      "\u001b[K     |█████████████████████▉          | 829 kB 5.3 MB/s eta 0:00:01\r",
      "\u001b[K     |██████████████████████▏         | 839 kB 5.3 MB/s eta 0:00:01\r",
      "\u001b[K     |██████████████████████▍         | 849 kB 5.3 MB/s eta 0:00:01\r",
      "\u001b[K     |██████████████████████▊         | 860 kB 5.3 MB/s eta 0:00:01\r",
      "\u001b[K     |███████████████████████         | 870 kB 5.3 MB/s eta 0:00:01\r",
      "\u001b[K     |███████████████████████▏        | 880 kB 5.3 MB/s eta 0:00:01\r",
      "\u001b[K     |███████████████████████▌        | 890 kB 5.3 MB/s eta 0:00:01\r",
      "\u001b[K     |███████████████████████▊        | 901 kB 5.3 MB/s eta 0:00:01\r",
      "\u001b[K     |████████████████████████        | 911 kB 5.3 MB/s eta 0:00:01\r",
      "\u001b[K     |████████████████████████▎       | 921 kB 5.3 MB/s eta 0:00:01\r",
      "\u001b[K     |████████████████████████▋       | 931 kB 5.3 MB/s eta 0:00:01\r",
      "\u001b[K     |████████████████████████▉       | 942 kB 5.3 MB/s eta 0:00:01\r",
      "\u001b[K     |█████████████████████████       | 952 kB 5.3 MB/s eta 0:00:01\r",
      "\u001b[K     |█████████████████████████▍      | 962 kB 5.3 MB/s eta 0:00:01\r",
      "\u001b[K     |█████████████████████████▋      | 972 kB 5.3 MB/s eta 0:00:01\r",
      "\u001b[K     |██████████████████████████      | 983 kB 5.3 MB/s eta 0:00:01\r",
      "\u001b[K     |██████████████████████████▏     | 993 kB 5.3 MB/s eta 0:00:01\r",
      "\u001b[K     |██████████████████████████▌     | 1.0 MB 5.3 MB/s eta 0:00:01\r",
      "\u001b[K     |██████████████████████████▊     | 1.0 MB 5.3 MB/s eta 0:00:01\r",
      "\u001b[K     |███████████████████████████     | 1.0 MB 5.3 MB/s eta 0:00:01\r",
      "\u001b[K     |███████████████████████████▎    | 1.0 MB 5.3 MB/s eta 0:00:01\r",
      "\u001b[K     |███████████████████████████▌    | 1.0 MB 5.3 MB/s eta 0:00:01\r",
      "\u001b[K     |███████████████████████████▉    | 1.1 MB 5.3 MB/s eta 0:00:01\r",
      "\u001b[K     |████████████████████████████    | 1.1 MB 5.3 MB/s eta 0:00:01\r",
      "\u001b[K     |████████████████████████████▍   | 1.1 MB 5.3 MB/s eta 0:00:01\r",
      "\u001b[K     |████████████████████████████▋   | 1.1 MB 5.3 MB/s eta 0:00:01\r",
      "\u001b[K     |████████████████████████████▉   | 1.1 MB 5.3 MB/s eta 0:00:01\r",
      "\u001b[K     |█████████████████████████████▏  | 1.1 MB 5.3 MB/s eta 0:00:01\r",
      "\u001b[K     |█████████████████████████████▍  | 1.1 MB 5.3 MB/s eta 0:00:01\r",
      "\u001b[K     |█████████████████████████████▊  | 1.1 MB 5.3 MB/s eta 0:00:01\r",
      "\u001b[K     |██████████████████████████████  | 1.1 MB 5.3 MB/s eta 0:00:01\r",
      "\u001b[K     |██████████████████████████████▎ | 1.1 MB 5.3 MB/s eta 0:00:01\r",
      "\u001b[K     |██████████████████████████████▌ | 1.2 MB 5.3 MB/s eta 0:00:01\r",
      "\u001b[K     |██████████████████████████████▊ | 1.2 MB 5.3 MB/s eta 0:00:01\r",
      "\u001b[K     |███████████████████████████████ | 1.2 MB 5.3 MB/s eta 0:00:01\r",
      "\u001b[K     |███████████████████████████████▎| 1.2 MB 5.3 MB/s eta 0:00:01\r",
      "\u001b[K     |███████████████████████████████▋| 1.2 MB 5.3 MB/s eta 0:00:01\r",
      "\u001b[K     |███████████████████████████████▉| 1.2 MB 5.3 MB/s eta 0:00:01\r",
      "\u001b[K     |████████████████████████████████| 1.2 MB 5.3 MB/s \n",
      "\u001b[?25hInstalling collected packages: sentencepiece\n",
      "Successfully installed sentencepiece-0.1.96\n",
      "--2021-11-30 18:11:22--  https://raw.githubusercontent.com/moussaKam/transfer_learning_transformers/main/sentencepiece.french.model\n",
      "Resolving raw.githubusercontent.com (raw.githubusercontent.com)... 185.199.108.133, 185.199.109.133, 185.199.110.133, ...\n",
      "Connecting to raw.githubusercontent.com (raw.githubusercontent.com)|185.199.108.133|:443... connected.\n",
      "HTTP request sent, awaiting response... 200 OK\n",
      "Length: 1115362 (1.1M) [application/octet-stream]\n",
      "Saving to: ‘sentencepiece.french.model’\n",
      "\n",
      "sentencepiece.frenc 100%[===================>]   1.06M  --.-KB/s    in 0.05s   \n",
      "\n",
      "2021-11-30 18:11:22 (20.9 MB/s) - ‘sentencepiece.french.model’ saved [1115362/1115362]\n",
      "\n",
      "['▁Bonjour', '▁les', '▁amis', '!']\n",
      "Bonjour les amis!\n"
     ]
    }
   ],
   "source": [
    "!pip install sentencepiece\n",
    "!wget https://raw.githubusercontent.com/moussaKam/transfer_learning_transformers/main/sentencepiece.french.model\n",
    "\n",
    "import sentencepiece as spm\n",
    "\n",
    "s = spm.SentencePieceProcessor(model_file='sentencepiece.french.model') #load sentencepiece model\n",
    "\n",
    "#examples\n",
    "encoded = s.encode_as_pieces(\"Bonjour les amis!\")\n",
    "decoded = s.decode_pieces(encoded)\n",
    "print(encoded)\n",
    "print(decoded)"
   ]
  },
  {
   "cell_type": "code",
   "execution_count": 27,
   "metadata": {
    "id": "TtLlV05pkQI3"
   },
   "outputs": [],
   "source": [
    "def infer_next_token(sent):\n",
    "    model.eval()\n",
    "    sent_pieces = s.encode_as_pieces(sent)\n",
    "    source = [token2ind['<sos>']] + [token2ind[el] for el in sent_pieces] # list of tokens\n",
    "    source = torch.tensor(source).to(device)\n",
    "    source = source.reshape(-1, 1)\n",
    "    src_mask = model.base.generate_square_subsequent_mask(source.size(0)).to(device)\n",
    "    out = model(source, src_mask)\n",
    "    next_token_ind = out[-1].argmax(-1) #fill me\n",
    "    return next_token_ind, out\n",
    "    \n",
    "def infer_next_tokens(sent, max_len=50):\n",
    "    # to be implemented\n",
    "    max_len -= len(sent.split(' '))\n",
    "    current_sentence, i = sent, 0\n",
    "    while i < max_len:\n",
    "        next_token_ind, _ = infer_next_token(current_sentence)\n",
    "        encoded_next_word = ind2token[next_token_ind.item()]\n",
    "        decoded_next_word = s.decode_pieces([encoded_next_word])\n",
    "        if decoded_next_word == \"<eos>\":\n",
    "            break\n",
    "        current_sentence += ' ' + decoded_next_word\n",
    "        i += 1\n",
    "    return current_sentence"
   ]
  },
  {
   "cell_type": "code",
   "execution_count": 28,
   "metadata": {
    "colab": {
     "base_uri": "https://localhost:8080/",
     "height": 35
    },
    "id": "f83Nn5nSly4v",
    "outputId": "c95e1586-3782-4a12-c042-d7753654756e"
   },
   "outputs": [
    {
     "data": {
      "application/vnd.google.colaboratory.intrinsic+json": {
       "type": "string"
      },
      "text/plain": [
       "'Bonjour les gens qui ont été très accueillants et sympathiques .'"
      ]
     },
     "execution_count": 28,
     "metadata": {},
     "output_type": "execute_result"
    }
   ],
   "source": [
    "sent = \"Bonjour les\"\n",
    "infer_next_tokens(sent)"
   ]
  },
  {
   "cell_type": "markdown",
   "metadata": {
    "id": "Lp7mjVzomoZ3"
   },
   "source": [
    "### Supervised task"
   ]
  },
  {
   "cell_type": "code",
   "execution_count": 29,
   "metadata": {
    "colab": {
     "base_uri": "https://localhost:8080/"
    },
    "id": "0K1BZsblmEmx",
    "outputId": "e202c133-bcfa-486e-a3ea-882505d5ed8b"
   },
   "outputs": [
    {
     "name": "stdout",
     "output_type": "stream",
     "text": [
      "--2021-11-30 18:11:22--  https://raw.githubusercontent.com/moussaKam/transfer_learning_transformers/main/cls-books/train.review.spm\n",
      "Resolving raw.githubusercontent.com (raw.githubusercontent.com)... 185.199.108.133, 185.199.109.133, 185.199.110.133, ...\n",
      "Connecting to raw.githubusercontent.com (raw.githubusercontent.com)|185.199.108.133|:443... connected.\n",
      "HTTP request sent, awaiting response... 200 OK\n",
      "Length: 1495960 (1.4M) [text/plain]\n",
      "Saving to: ‘train.review.spm’\n",
      "\n",
      "train.review.spm    100%[===================>]   1.43M  --.-KB/s    in 0.05s   \n",
      "\n",
      "2021-11-30 18:11:23 (26.3 MB/s) - ‘train.review.spm’ saved [1495960/1495960]\n",
      "\n",
      "--2021-11-30 18:11:23--  https://raw.githubusercontent.com/moussaKam/transfer_learning_transformers/main/cls-books/train.label\n",
      "Resolving raw.githubusercontent.com (raw.githubusercontent.com)... 185.199.108.133, 185.199.109.133, 185.199.110.133, ...\n",
      "Connecting to raw.githubusercontent.com (raw.githubusercontent.com)|185.199.108.133|:443... connected.\n",
      "HTTP request sent, awaiting response... 200 OK\n",
      "Length: 3200 (3.1K) [text/plain]\n",
      "Saving to: ‘train.label’\n",
      "\n",
      "train.label         100%[===================>]   3.12K  --.-KB/s    in 0s      \n",
      "\n",
      "2021-11-30 18:11:23 (31.9 MB/s) - ‘train.label’ saved [3200/3200]\n",
      "\n",
      "--2021-11-30 18:11:23--  https://raw.githubusercontent.com/moussaKam/transfer_learning_transformers/main/cls-books/test.review.spm\n",
      "Resolving raw.githubusercontent.com (raw.githubusercontent.com)... 185.199.108.133, 185.199.109.133, 185.199.110.133, ...\n",
      "Connecting to raw.githubusercontent.com (raw.githubusercontent.com)|185.199.108.133|:443... connected.\n",
      "HTTP request sent, awaiting response... 200 OK\n",
      "Length: 1864544 (1.8M) [text/plain]\n",
      "Saving to: ‘test.review.spm’\n",
      "\n",
      "test.review.spm     100%[===================>]   1.78M  --.-KB/s    in 0.06s   \n",
      "\n",
      "2021-11-30 18:11:27 (31.4 MB/s) - ‘test.review.spm’ saved [1864544/1864544]\n",
      "\n",
      "--2021-11-30 18:11:27--  https://raw.githubusercontent.com/moussaKam/transfer_learning_transformers/main/cls-books/test.label\n",
      "Resolving raw.githubusercontent.com (raw.githubusercontent.com)... 185.199.108.133, 185.199.109.133, 185.199.110.133, ...\n",
      "Connecting to raw.githubusercontent.com (raw.githubusercontent.com)|185.199.108.133|:443... connected.\n",
      "HTTP request sent, awaiting response... 200 OK\n",
      "Length: 4000 (3.9K) [text/plain]\n",
      "Saving to: ‘test.label’\n",
      "\n",
      "test.label          100%[===================>]   3.91K  --.-KB/s    in 0s      \n",
      "\n",
      "2021-11-30 18:11:28 (32.6 MB/s) - ‘test.label’ saved [4000/4000]\n",
      "\n"
     ]
    }
   ],
   "source": [
    "!wget https://raw.githubusercontent.com/moussaKam/transfer_learning_transformers/main/cls-books/train.review.spm\n",
    "!wget https://raw.githubusercontent.com/moussaKam/transfer_learning_transformers/main/cls-books/train.label\n",
    "!wget https://raw.githubusercontent.com/moussaKam/transfer_learning_transformers/main/cls-books/test.review.spm\n",
    "!wget https://raw.githubusercontent.com/moussaKam/transfer_learning_transformers/main/cls-books/test.label\n",
    "\n",
    "path_data_train = \"train.review.spm\"\n",
    "path_labels_train = \"train.label\"\n",
    "\n",
    "path_data_valid = \"test.review.spm\"\n",
    "path_labels_valid = \"test.label\""
   ]
  },
  {
   "cell_type": "code",
   "execution_count": 30,
   "metadata": {
    "id": "_MLfvjiom2SL"
   },
   "outputs": [],
   "source": [
    "# a function to evaluate the validation accuracy of the model.\n",
    "def evaluate_accuracy(data_loader):\n",
    "    #to be implemented\n",
    "    model.eval()\n",
    "    total_correct_predictions = total_length = 0\n",
    "    for idx, (input_data, target_data) in enumerate(data_loader):\n",
    "        src_mask = model.base.generate_square_subsequent_mask(\n",
    "            input_data.size(0)\n",
    "        ).to(device)\n",
    "        input_data = input_data.to(device)\n",
    "        output = model(input_data, src_mask)\n",
    "        output = output[-1]\n",
    "        output = output.view(-1, output.shape[-1])\n",
    "        max_prob_indices = output.argmax(-1)\n",
    "        target_data = target_data.to(device)\n",
    "        total_length += target_data.shape[0]\n",
    "        correct_predictions = torch.sum(target_data == max_prob_indices)\n",
    "        total_correct_predictions += correct_predictions.item()\n",
    "    return total_correct_predictions / total_length"
   ]
  },
  {
   "cell_type": "code",
   "execution_count": 31,
   "metadata": {
    "id": "qzmx7T7xoa6v"
   },
   "outputs": [],
   "source": [
    "#save the base model to be loaded later in the fine-tuning phase\n",
    "torch.save({\"model_state_dict\": model.base.state_dict(),}, \"pretrained_model_4layers_no_class_head.pt\")"
   ]
  },
  {
   "cell_type": "code",
   "execution_count": 32,
   "metadata": {
    "colab": {
     "base_uri": "https://localhost:8080/"
    },
    "id": "i-xclMCpnVpw",
    "outputId": "a055c395-f2bc-484c-da31-5019b6e6ad31"
   },
   "outputs": [
    {
     "name": "stdout",
     "output_type": "stream",
     "text": [
      "=====Trainig FROM SCRATCH======\n",
      "| epoch   1 |    50/  200 steps | loss 0.74922 | ppl    2.115\n",
      "| epoch   1 |   100/  200 steps | loss 0.75825 | ppl    2.135\n",
      "| epoch   1 |   150/  200 steps | loss 0.72614 | ppl    2.067\n",
      "| epoch   2 |    50/  200 steps | loss 0.62177 | ppl    1.862\n",
      "| epoch   2 |   100/  200 steps | loss 0.61035 | ppl    1.841\n",
      "| epoch   2 |   150/  200 steps | loss 0.56130 | ppl    1.753\n",
      "| epoch   3 |    50/  200 steps | loss 0.31186 | ppl    1.366\n",
      "| epoch   3 |   100/  200 steps | loss 0.29505 | ppl    1.343\n",
      "| epoch   3 |   150/  200 steps | loss 0.30289 | ppl    1.354\n",
      "| epoch   4 |    50/  200 steps | loss 0.22074 | ppl    1.247\n",
      "| epoch   4 |   100/  200 steps | loss 0.10501 | ppl    1.111\n",
      "| epoch   4 |   150/  200 steps | loss 0.12137 | ppl    1.129\n",
      "| epoch   5 |    50/  200 steps | loss 0.02225 | ppl    1.023\n",
      "| epoch   5 |   100/  200 steps | loss 0.06327 | ppl    1.065\n",
      "| epoch   5 |   150/  200 steps | loss 0.00181 | ppl    1.002\n",
      "| epoch   6 |    50/  200 steps | loss 0.01192 | ppl    1.012\n",
      "| epoch   6 |   100/  200 steps | loss 0.00312 | ppl    1.003\n",
      "| epoch   6 |   150/  200 steps | loss 0.03836 | ppl    1.039\n",
      "| epoch   7 |    50/  200 steps | loss 0.00003 | ppl    1.000\n",
      "| epoch   7 |   100/  200 steps | loss 0.00003 | ppl    1.000\n",
      "| epoch   7 |   150/  200 steps | loss 0.00003 | ppl    1.000\n",
      "| epoch   8 |    50/  200 steps | loss 0.00002 | ppl    1.000\n",
      "| epoch   8 |   100/  200 steps | loss 0.00002 | ppl    1.000\n",
      "| epoch   8 |   150/  200 steps | loss 0.00002 | ppl    1.000\n",
      "| epoch   9 |    50/  200 steps | loss 0.00001 | ppl    1.000\n",
      "| epoch   9 |   100/  200 steps | loss 0.00001 | ppl    1.000\n",
      "| epoch   9 |   150/  200 steps | loss 0.00001 | ppl    1.000\n",
      "| epoch  10 |    50/  200 steps | loss 0.00001 | ppl    1.000\n",
      "| epoch  10 |   100/  200 steps | loss 0.00001 | ppl    1.000\n",
      "| epoch  10 |   150/  200 steps | loss 0.00001 | ppl    1.000\n",
      "| epoch  11 |    50/  200 steps | loss 0.00001 | ppl    1.000\n",
      "| epoch  11 |   100/  200 steps | loss 0.00001 | ppl    1.000\n",
      "| epoch  11 |   150/  200 steps | loss 0.00001 | ppl    1.000\n",
      "| epoch  12 |    50/  200 steps | loss 0.00008 | ppl    1.000\n",
      "| epoch  12 |   100/  200 steps | loss 0.00005 | ppl    1.000\n",
      "| epoch  12 |   150/  200 steps | loss 0.00001 | ppl    1.000\n",
      "| epoch  13 |    50/  200 steps | loss 0.00001 | ppl    1.000\n",
      "| epoch  13 |   100/  200 steps | loss 0.00001 | ppl    1.000\n",
      "| epoch  13 |   150/  200 steps | loss 0.00898 | ppl    1.009\n",
      "| epoch  14 |    50/  200 steps | loss 0.00001 | ppl    1.000\n",
      "| epoch  14 |   100/  200 steps | loss 0.00000 | ppl    1.000\n",
      "| epoch  14 |   150/  200 steps | loss 0.00000 | ppl    1.000\n",
      "| epoch  15 |    50/  200 steps | loss 0.02151 | ppl    1.022\n",
      "| epoch  15 |   100/  200 steps | loss 0.00000 | ppl    1.000\n",
      "| epoch  15 |   150/  200 steps | loss 0.00853 | ppl    1.009\n",
      "\n",
      "=====PRETRAINED MODEL======\n",
      "| epoch   1 |    50/  200 steps | loss 0.80905 | ppl    2.246\n",
      "| epoch   1 |   100/  200 steps | loss 0.67960 | ppl    1.973\n",
      "| epoch   1 |   150/  200 steps | loss 0.59737 | ppl    1.817\n",
      "| epoch   2 |    50/  200 steps | loss 0.49648 | ppl    1.643\n",
      "| epoch   2 |   100/  200 steps | loss 0.47425 | ppl    1.607\n",
      "| epoch   2 |   150/  200 steps | loss 0.46735 | ppl    1.596\n",
      "| epoch   3 |    50/  200 steps | loss 0.31952 | ppl    1.376\n",
      "| epoch   3 |   100/  200 steps | loss 0.39508 | ppl    1.485\n",
      "| epoch   3 |   150/  200 steps | loss 0.40738 | ppl    1.503\n",
      "| epoch   4 |    50/  200 steps | loss 0.25752 | ppl    1.294\n",
      "| epoch   4 |   100/  200 steps | loss 0.27583 | ppl    1.318\n",
      "| epoch   4 |   150/  200 steps | loss 0.30909 | ppl    1.362\n",
      "| epoch   5 |    50/  200 steps | loss 0.13183 | ppl    1.141\n",
      "| epoch   5 |   100/  200 steps | loss 0.18262 | ppl    1.200\n",
      "| epoch   5 |   150/  200 steps | loss 0.29313 | ppl    1.341\n",
      "| epoch   6 |    50/  200 steps | loss 0.09421 | ppl    1.099\n",
      "| epoch   6 |   100/  200 steps | loss 0.13840 | ppl    1.148\n",
      "| epoch   6 |   150/  200 steps | loss 0.09388 | ppl    1.098\n",
      "| epoch   7 |    50/  200 steps | loss 0.03640 | ppl    1.037\n",
      "| epoch   7 |   100/  200 steps | loss 0.14594 | ppl    1.157\n",
      "| epoch   7 |   150/  200 steps | loss 0.09273 | ppl    1.097\n",
      "| epoch   8 |    50/  200 steps | loss 0.01309 | ppl    1.013\n",
      "| epoch   8 |   100/  200 steps | loss 0.03236 | ppl    1.033\n",
      "| epoch   8 |   150/  200 steps | loss 0.02182 | ppl    1.022\n",
      "| epoch   9 |    50/  200 steps | loss 0.00003 | ppl    1.000\n",
      "| epoch   9 |   100/  200 steps | loss 0.03036 | ppl    1.031\n",
      "| epoch   9 |   150/  200 steps | loss 0.01517 | ppl    1.015\n",
      "| epoch  10 |    50/  200 steps | loss 0.01044 | ppl    1.010\n",
      "| epoch  10 |   100/  200 steps | loss 0.00398 | ppl    1.004\n",
      "| epoch  10 |   150/  200 steps | loss 0.00004 | ppl    1.000\n",
      "| epoch  11 |    50/  200 steps | loss 0.00004 | ppl    1.000\n",
      "| epoch  11 |   100/  200 steps | loss 0.00106 | ppl    1.001\n",
      "| epoch  11 |   150/  200 steps | loss 0.00586 | ppl    1.006\n",
      "| epoch  12 |    50/  200 steps | loss 0.00000 | ppl    1.000\n",
      "| epoch  12 |   100/  200 steps | loss 0.00001 | ppl    1.000\n",
      "| epoch  12 |   150/  200 steps | loss 0.00000 | ppl    1.000\n",
      "| epoch  13 |    50/  200 steps | loss 0.00006 | ppl    1.000\n",
      "| epoch  13 |   100/  200 steps | loss 0.00000 | ppl    1.000\n",
      "| epoch  13 |   150/  200 steps | loss 0.01057 | ppl    1.011\n",
      "| epoch  14 |    50/  200 steps | loss 0.00000 | ppl    1.000\n",
      "| epoch  14 |   100/  200 steps | loss 0.00000 | ppl    1.000\n",
      "| epoch  14 |   150/  200 steps | loss 0.00001 | ppl    1.000\n",
      "| epoch  15 |    50/  200 steps | loss 0.01146 | ppl    1.012\n",
      "| epoch  15 |   100/  200 steps | loss 0.00033 | ppl    1.000\n",
      "| epoch  15 |   150/  200 steps | loss 0.02272 | ppl    1.023\n",
      "\n"
     ]
    }
   ],
   "source": [
    "from_scratch_settings = [True, False]\n",
    "\n",
    "from_scratch_valid_acc = []\n",
    "pretrained_valid_acc = []\n",
    "lr = 0.0001\n",
    "\n",
    "for from_scratch in from_scratch_settings:\n",
    "    model = Model(ntokens, nhead, nhid, nlayers, 2, dropout).to(device)\n",
    "    criterion = nn.CrossEntropyLoss()\n",
    "    optimizer = torch.optim.Adam(model.parameters(), lr=lr)\n",
    "    if not from_scratch:\n",
    "        print(\"=====PRETRAINED MODEL======\")\n",
    "        #load checkpoint\n",
    "        checkpoint = torch.load(\"pretrained_model_4layers_no_class_head.pt\")\n",
    "        #load state dict\n",
    "        model.base.load_state_dict(checkpoint['model_state_dict'])\n",
    "    else:\n",
    "        print(\"=====Trainig FROM SCRATCH======\")\n",
    "    epochs = 15\n",
    "    for epoch in range(1, epochs + 1):\n",
    "        train(\n",
    "            path_data_train,\n",
    "            path_labels_train,\n",
    "            save_interval=-1,\n",
    "            task='classification',\n",
    "            batch_size=8,\n",
    "            log_interval=50,\n",
    "        )\n",
    "        acc = evaluate_accuracy(\n",
    "            get_loader(\n",
    "                path_data_valid,\n",
    "                path_labels_valid,\n",
    "                token2ind=token2ind,\n",
    "                batch_size=20,\n",
    "                task='classification',\n",
    "            )\n",
    "        )\n",
    "        if from_scratch:\n",
    "            from_scratch_valid_acc.append(acc)\n",
    "        else:\n",
    "            pretrained_valid_acc.append(acc)\n",
    "    print()"
   ]
  },
  {
   "cell_type": "code",
   "execution_count": 33,
   "metadata": {
    "colab": {
     "base_uri": "https://localhost:8080/",
     "height": 279
    },
    "id": "RCpBIdTHojm6",
    "outputId": "7665ee4b-47ee-4f59-bd72-462b91a13833"
   },
   "outputs": [
    {
     "data": {
      "image/png": "[encoded data removed]",
      "text/plain": [
       "<Figure size 432x288 with 1 Axes>"
      ]
     },
     "metadata": {
      "needs_background": "light"
     },
     "output_type": "display_data"
    }
   ],
   "source": [
    "#Visualize the accuracy\n",
    "import matplotlib.pyplot as plt\n",
    "plt.plot(pretrained_valid_acc, 'b', label=\"the Pretrained accuracy\")\n",
    "plt.plot(from_scratch_valid_acc, 'r', label=\"From scratch accuracy\")\n",
    "plt.xlabel(\"Epoch\")\n",
    "plt.ylabel(\"Accuracy\")\n",
    "plt.legend()\n",
    "plt.show()"
   ]
  }
 ],
 "metadata": {
  "accelerator": "GPU",
  "colab": {
   "collapsed_sections": [],
   "name": " ALTEGRAD_2021_transfer_learning_tabaai.ipynb",
   "provenance": []
  },
  "kernelspec": {
   "display_name": "Python 3 (ipykernel)",
   "language": "python",
   "name": "python3"
  },
  "language_info": {
   "codemirror_mode": {
    "name": "ipython",
    "version": 3
   },
   "file_extension": ".py",
   "mimetype": "text/x-python",
   "name": "python",
   "nbconvert_exporter": "python",
   "pygments_lexer": "ipython3",
   "version": "3.9.7"
  }
 },
 "nbformat": 4,
 "nbformat_minor": 1
}
